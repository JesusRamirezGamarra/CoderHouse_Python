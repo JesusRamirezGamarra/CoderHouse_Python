{
 "cells": [
  {
   "cell_type": "code",
   "execution_count": 43,
   "metadata": {},
   "outputs": [],
   "source": [
    "\"\"\"\n",
    "MI PRIMER PROGRAMA EN PYTHON\n",
    "Calculadora de notas\n",
    "\"\"\"\n",
    "\n",
    "\n",
    "def fun_Nota(numero_examen):\n",
    "    try:\n",
    "        nota = float(input(\"Ingrese su nota del examen {numero_examen} :\"))\n",
    "    except ValueError:\n",
    "        print(f\"La nota del examen # {numero_examen} : {nota} ,no es un número, ingrese una nota valida\")\n",
    "        return -1\n",
    "    else:\n",
    "        if nota>=0 and nota <= 20:\n",
    "            print(f\"La nota del examen # {numero_examen} : {nota} \")\n",
    "            return nota\n",
    "        else:\n",
    "            print(f\"La nota del examen # {numero_examen} : {nota} , debes ingresar una nota entre 0 y 20\")\n",
    "            return -1"
   ]
  },
  {
   "cell_type": "code",
   "execution_count": 49,
   "metadata": {},
   "outputs": [
    {
     "name": "stdout",
     "output_type": "stream",
     "text": [
      "La nota del examen # 1 : 19.1 \n",
      "La nota del examen # 2 : 12.3 \n",
      "La nota del examen # 3 : 23.4 , debes ingresar una nota entre 0 y 20\n",
      "La nota del examen # 3 : 19.8 \n",
      "La nota promedio es:        17.07\n"
     ]
    }
   ],
   "source": [
    "\n",
    "cantidad_notas =  int(input(\"Ingrese #examenes a promediar :\"))\n",
    "contador = 0\n",
    "notas_suma_total = 0\n",
    "while contador < cantidad_notas:\n",
    "    nota_valor = fun_Nota(contador+1)\n",
    "    if nota_valor!= -1:\n",
    "        contador = contador + 1 \n",
    "        notas_suma_total = notas_suma_total + nota_valor\n",
    "\n",
    "promedio = \"{:12.2f}\".format(notas_suma_total/cantidad_notas)\n",
    "print (f\"La nota promedio es: {promedio}\")\n",
    "        "
   ]
  }
 ],
 "metadata": {
  "kernelspec": {
   "display_name": "Python 3.8.10 64-bit",
   "language": "python",
   "name": "python3"
  },
  "language_info": {
   "codemirror_mode": {
    "name": "ipython",
    "version": 3
   },
   "file_extension": ".py",
   "mimetype": "text/x-python",
   "name": "python",
   "nbconvert_exporter": "python",
   "pygments_lexer": "ipython3",
   "version": "3.8.10"
  },
  "orig_nbformat": 4,
  "vscode": {
   "interpreter": {
    "hash": "916dbcbb3f70747c44a77c7bcd40155683ae19c65e1c03b4aa3499c5328201f1"
   }
  }
 },
 "nbformat": 4,
 "nbformat_minor": 2
}
